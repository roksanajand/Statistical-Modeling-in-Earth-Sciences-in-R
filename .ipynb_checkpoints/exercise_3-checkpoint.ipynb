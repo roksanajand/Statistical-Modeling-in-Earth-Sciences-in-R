{
 "cells": [
  {
   "cell_type": "markdown",
   "id": "6b1f6985-821a-4c1a-a67b-090b5caf0763",
   "metadata": {},
   "source": [
    "# Creating Statistical Models"
   ]
  },
  {
   "cell_type": "markdown",
   "id": "2be23bd6-d42f-4439-a882-1c5fd763c178",
   "metadata": {},
   "source": [
    "### Data Preparation for Statistical Modeling"
   ]
  },
  {
   "cell_type": "markdown",
   "id": "3d08db8b-eb5a-4dac-a725-b9f1db589e81",
   "metadata": {},
   "source": [
    "This task involves loading the airquality dataset, assessing missing values, creating a cleaned dataset by removing rows with missing data, and exploring the structure of the cleaned dataset to ensure data quality for statistical analysis."
   ]
  },
  {
   "cell_type": "code",
   "execution_count": 5,
   "id": "bd6a2651-ebbb-48b4-80a4-3723a9524b5d",
   "metadata": {},
   "outputs": [
    {
     "data": {
      "text/html": [
       "<table class=\"dataframe\">\n",
       "<caption>A data.frame: 6 × 6</caption>\n",
       "<thead>\n",
       "\t<tr><th></th><th scope=col>Ozone</th><th scope=col>Solar.R</th><th scope=col>Wind</th><th scope=col>Temp</th><th scope=col>Month</th><th scope=col>Day</th></tr>\n",
       "\t<tr><th></th><th scope=col>&lt;int&gt;</th><th scope=col>&lt;int&gt;</th><th scope=col>&lt;dbl&gt;</th><th scope=col>&lt;int&gt;</th><th scope=col>&lt;int&gt;</th><th scope=col>&lt;int&gt;</th></tr>\n",
       "</thead>\n",
       "<tbody>\n",
       "\t<tr><th scope=row>1</th><td>41</td><td>190</td><td> 7.4</td><td>67</td><td>5</td><td>1</td></tr>\n",
       "\t<tr><th scope=row>2</th><td>36</td><td>118</td><td> 8.0</td><td>72</td><td>5</td><td>2</td></tr>\n",
       "\t<tr><th scope=row>3</th><td>12</td><td>149</td><td>12.6</td><td>74</td><td>5</td><td>3</td></tr>\n",
       "\t<tr><th scope=row>4</th><td>18</td><td>313</td><td>11.5</td><td>62</td><td>5</td><td>4</td></tr>\n",
       "\t<tr><th scope=row>5</th><td>NA</td><td> NA</td><td>14.3</td><td>56</td><td>5</td><td>5</td></tr>\n",
       "\t<tr><th scope=row>6</th><td>28</td><td> NA</td><td>14.9</td><td>66</td><td>5</td><td>6</td></tr>\n",
       "</tbody>\n",
       "</table>\n"
      ],
      "text/latex": [
       "A data.frame: 6 × 6\n",
       "\\begin{tabular}{r|llllll}\n",
       "  & Ozone & Solar.R & Wind & Temp & Month & Day\\\\\n",
       "  & <int> & <int> & <dbl> & <int> & <int> & <int>\\\\\n",
       "\\hline\n",
       "\t1 & 41 & 190 &  7.4 & 67 & 5 & 1\\\\\n",
       "\t2 & 36 & 118 &  8.0 & 72 & 5 & 2\\\\\n",
       "\t3 & 12 & 149 & 12.6 & 74 & 5 & 3\\\\\n",
       "\t4 & 18 & 313 & 11.5 & 62 & 5 & 4\\\\\n",
       "\t5 & NA &  NA & 14.3 & 56 & 5 & 5\\\\\n",
       "\t6 & 28 &  NA & 14.9 & 66 & 5 & 6\\\\\n",
       "\\end{tabular}\n"
      ],
      "text/markdown": [
       "\n",
       "A data.frame: 6 × 6\n",
       "\n",
       "| <!--/--> | Ozone &lt;int&gt; | Solar.R &lt;int&gt; | Wind &lt;dbl&gt; | Temp &lt;int&gt; | Month &lt;int&gt; | Day &lt;int&gt; |\n",
       "|---|---|---|---|---|---|---|\n",
       "| 1 | 41 | 190 |  7.4 | 67 | 5 | 1 |\n",
       "| 2 | 36 | 118 |  8.0 | 72 | 5 | 2 |\n",
       "| 3 | 12 | 149 | 12.6 | 74 | 5 | 3 |\n",
       "| 4 | 18 | 313 | 11.5 | 62 | 5 | 4 |\n",
       "| 5 | NA |  NA | 14.3 | 56 | 5 | 5 |\n",
       "| 6 | 28 |  NA | 14.9 | 66 | 5 | 6 |\n",
       "\n"
      ],
      "text/plain": [
       "  Ozone Solar.R Wind Temp Month Day\n",
       "1 41    190      7.4 67   5     1  \n",
       "2 36    118      8.0 72   5     2  \n",
       "3 12    149     12.6 74   5     3  \n",
       "4 18    313     11.5 62   5     4  \n",
       "5 NA     NA     14.3 56   5     5  \n",
       "6 28     NA     14.9 66   5     6  "
      ]
     },
     "metadata": {},
     "output_type": "display_data"
    }
   ],
   "source": [
    "library(mosaic)\n",
    "library(ggplot2)\n",
    "data(airquality)\n",
    "head(airquality)\n"
   ]
  },
  {
   "cell_type": "code",
   "execution_count": 6,
   "id": "f0ad958b-04ad-4507-aa92-817c9f3fa936",
   "metadata": {},
   "outputs": [
    {
     "data": {
      "text/html": [
       "44"
      ],
      "text/latex": [
       "44"
      ],
      "text/markdown": [
       "44"
      ],
      "text/plain": [
       "[1] 44"
      ]
     },
     "metadata": {},
     "output_type": "display_data"
    },
    {
     "name": "stdout",
     "output_type": "stream",
     "text": [
      "'data.frame':\t111 obs. of  6 variables:\n",
      " $ Ozone  : int  41 36 12 18 23 19 8 16 11 14 ...\n",
      " $ Solar.R: int  190 118 149 313 299 99 19 256 290 274 ...\n",
      " $ Wind   : num  7.4 8 12.6 11.5 8.6 13.8 20.1 9.7 9.2 10.9 ...\n",
      " $ Temp   : int  67 72 74 62 65 59 61 69 66 68 ...\n",
      " $ Month  : int  5 5 5 5 5 5 5 5 5 5 ...\n",
      " $ Day    : int  1 2 3 4 7 8 9 12 13 14 ...\n",
      " - attr(*, \"na.action\")= 'omit' Named int [1:42] 5 6 10 11 25 26 27 32 33 34 ...\n",
      "  ..- attr(*, \"names\")= chr [1:42] \"5\" \"6\" \"10\" \"11\" ...\n"
     ]
    }
   ],
   "source": [
    "brak<-sum(is.na(airquality))\n",
    "brak\n",
    "new_airquality <- na.omit(airquality) #bez NA\n",
    "str(new_airquality)                \n"
   ]
  },
  {
   "cell_type": "markdown",
   "id": "79ecb9b5-8c9d-4955-badb-0dae3642ef89",
   "metadata": {},
   "source": [
    "### Ozone Levels Analysis by Wind Speed"
   ]
  },
  {
   "cell_type": "markdown",
   "id": "640a4820-4f28-4163-8101-cc57565585b6",
   "metadata": {},
   "source": [
    "This task visualizes ozone levels with a boxplot while excluding outliers, computes the average ozone level for different wind speeds using the mosaic package and the aggregate() function, and displays the results in a line chart with points representing the averages."
   ]
  },
  {
   "cell_type": "code",
   "execution_count": 11,
   "id": "9daf9d95-8cd7-40d4-b575-c9be4d76c705",
   "metadata": {},
   "outputs": [
    {
     "data": {
      "image/png": "[encoded data removed]",
      "text/plain": [
       "plot without title"
      ]
     },
     "metadata": {
      "image/png": {
       "height": 420,
       "width": 420
      }
     },
     "output_type": "display_data"
    }
   ],
   "source": [
    "ggplot(new_airquality, aes(y = Ozone)) +\n",
    "  geom_boxplot(outlier.shape = NA)  #nie wysweitalja sie wartosci odstające"
   ]
  },
  {
   "cell_type": "code",
   "execution_count": 12,
   "id": "35ea6ac5-f94b-440c-be36-42a2a1c54170",
   "metadata": {},
   "outputs": [],
   "source": [
    "mean_ozone_month<-mosaic::mean(Ozone~Wind,data=new_airquality)"
   ]
  },
  {
   "cell_type": "code",
   "execution_count": 20,
   "id": "a3bc5f67-a5e3-4f4a-89de-4aff8c5d419d",
   "metadata": {},
   "outputs": [
    {
     "data": {
      "image/png": "[encoded data removed]",
      "text/plain": [
       "plot without title"
      ]
     },
     "metadata": {
      "image/png": {
       "height": 420,
       "width": 420
      }
     },
     "output_type": "display_data"
    }
   ],
   "source": [
    "mean_ozone_month_2<-aggregate(Ozone~Wind,data=new_airquality,FUN=mean)\n",
    "\n",
    "ggplot(data=mean_ozone_month_2, mapping=aes(x=Wind,y=Ozone)) +\n",
    "  geom_point(color=\"red\", size=2.5) + \n",
    "  geom_line(color=\"black\",linewidth=1.1) +\n",
    "labs(title = \"Average Ozone Levels for Different Wind Speeds\", \n",
    "     x = \"Wind Speed\", \n",
    "     y = \"Average Ozone Level\")\n"
   ]
  },
  {
   "cell_type": "code",
   "execution_count": 14,
   "id": "860bb2c4-8495-4ba8-8e6a-ed6a5c07d728",
   "metadata": {},
   "outputs": [
    {
     "name": "stdout",
     "output_type": "stream",
     "text": [
      "    Ozone Solar.R Wind  Temp Month Day\n",
      "1      41     190  7.4 19.44     5   1\n",
      "2      36     118  8.0 22.22     5   2\n",
      "3      12     149 12.6 23.33     5   3\n",
      "4      18     313 11.5 16.67     5   4\n",
      "7      23     299  8.6 18.33     5   7\n",
      "8      19      99 13.8 15.00     5   8\n",
      "9       8      19 20.1 16.11     5   9\n",
      "12     16     256  9.7 20.56     5  12\n",
      "13     11     290  9.2 18.89     5  13\n",
      "14     14     274 10.9 20.00     5  14\n",
      "15     18      65 13.2 14.44     5  15\n",
      "16     14     334 11.5 17.78     5  16\n",
      "17     34     307 12.0 18.89     5  17\n",
      "18      6      78 18.4 13.89     5  18\n",
      "19     30     322 11.5 20.00     5  19\n",
      "20     11      44  9.7 16.67     5  20\n",
      "21      1       8  9.7 15.00     5  21\n",
      "22     11     320 16.6 22.78     5  22\n",
      "23      4      25  9.7 16.11     5  23\n",
      "24     32      92 12.0 16.11     5  24\n",
      "28     23      13 12.0 19.44     5  28\n",
      "29     45     252 14.9 27.22     5  29\n",
      "30    115     223  5.7 26.11     5  30\n",
      "31     37     279  7.4 24.44     5  31\n",
      "38     29     127  9.7 27.78     6   7\n",
      "40     71     291 13.8 32.22     6   9\n",
      "41     39     323 11.5 30.56     6  10\n",
      "44     23     148  8.0 27.78     6  13\n",
      "47     21     191 14.9 25.00     6  16\n",
      "48     37     284 20.7 22.22     6  17\n",
      "49     20      37  9.2 18.33     6  18\n",
      "50     12     120 11.5 22.78     6  19\n",
      "51     13     137 10.3 24.44     6  20\n",
      "62    135     269  4.1 28.89     7   1\n",
      "63     49     248  9.2 29.44     7   2\n",
      "64     32     236  9.2 27.22     7   3\n",
      "66     64     175  4.6 28.33     7   5\n",
      "67     40     314 10.9 28.33     7   6\n",
      "68     77     276  5.1 31.11     7   7\n",
      "69     97     267  6.3 33.33     7   8\n",
      "70     97     272  5.7 33.33     7   9\n",
      "71     85     175  7.4 31.67     7  10\n",
      "73     10     264 14.3 22.78     7  12\n",
      "74     27     175 14.9 27.22     7  13\n",
      "76      7      48 14.3 26.67     7  15\n",
      "77     48     260  6.9 27.22     7  16\n",
      "78     35     274 10.3 27.78     7  17\n",
      "79     61     285  6.3 28.89     7  18\n",
      "80     79     187  5.1 30.56     7  19\n",
      "81     63     220 11.5 29.44     7  20\n",
      "82     16       7  6.9 23.33     7  21\n",
      "85     80     294  8.6 30.00     7  24\n",
      "86    108     223  8.0 29.44     7  25\n",
      "87     20      81  8.6 27.78     7  26\n",
      "88     52      82 12.0 30.00     7  27\n",
      "89     82     213  7.4 31.11     7  28\n",
      "90     50     275  7.4 30.00     7  29\n",
      "91     64     253  7.4 28.33     7  30\n",
      "92     59     254  9.2 27.22     7  31\n",
      "93     39      83  6.9 27.22     8   1\n",
      "94      9      24 13.8 27.22     8   2\n",
      "95     16      77  7.4 27.78     8   3\n",
      "99    122     255  4.0 31.67     8   7\n",
      "100    89     229 10.3 32.22     8   8\n",
      "101   110     207  8.0 32.22     8   9\n",
      "104    44     192 11.5 30.00     8  12\n",
      "105    28     273 11.5 27.78     8  13\n",
      "106    65     157  9.7 26.67     8  14\n",
      "108    22      71 10.3 25.00     8  16\n",
      "109    59      51  6.3 26.11     8  17\n",
      "110    23     115  7.4 24.44     8  18\n",
      "111    31     244 10.9 25.56     8  19\n",
      "112    44     190 10.3 25.56     8  20\n",
      "113    21     259 15.5 25.00     8  21\n",
      "114     9      36 14.3 22.22     8  22\n",
      "116    45     212  9.7 26.11     8  24\n",
      "117   168     238  3.4 27.22     8  25\n",
      "118    73     215  8.0 30.00     8  26\n",
      "120    76     203  9.7 36.11     8  28\n",
      "121   118     225  2.3 34.44     8  29\n",
      "122    84     237  6.3 35.56     8  30\n",
      "123    85     188  6.3 34.44     8  31\n",
      "124    96     167  6.9 32.78     9   1\n",
      "125    78     197  5.1 33.33     9   2\n",
      "126    73     183  2.8 33.89     9   3\n",
      "127    91     189  4.6 33.89     9   4\n",
      "128    47      95  7.4 30.56     9   5\n",
      "129    32      92 15.5 28.89     9   6\n",
      "130    20     252 10.9 26.67     9   7\n",
      "131    23     220 10.3 25.56     9   8\n",
      "132    21     230 10.9 23.89     9   9\n",
      "133    24     259  9.7 22.78     9  10\n",
      "134    44     236 14.9 27.22     9  11\n",
      "135    21     259 15.5 24.44     9  12\n",
      "136    28     238  6.3 25.00     9  13\n",
      "137     9      24 10.9 21.67     9  14\n",
      "138    13     112 11.5 21.67     9  15\n",
      "139    46     237  6.9 25.56     9  16\n",
      "140    18     224 13.8 19.44     9  17\n",
      "141    13      27 10.3 24.44     9  18\n",
      "142    24     238 10.3 20.00     9  19\n",
      "143    16     201  8.0 27.78     9  20\n",
      "144    13     238 12.6 17.78     9  21\n",
      "145    23      14  9.2 21.67     9  22\n",
      "146    36     139 10.3 27.22     9  23\n",
      "147     7      49 10.3 20.56     9  24\n",
      "148    14      20 16.6 17.22     9  25\n",
      "149    30     193  6.9 21.11     9  26\n",
      "151    14     191 14.3 23.89     9  28\n",
      "152    18     131  8.0 24.44     9  29\n",
      "153    20     223 11.5 20.00     9  30\n"
     ]
    }
   ],
   "source": [
    "new_airquality<-mutate(new_airquality, Temp=(5/9)*(Temp-32))\n",
    "print(round(new_airquality,2))\n"
   ]
  },
  {
   "cell_type": "markdown",
   "id": "a9c4a57d-d616-45ba-9def-1e580367e68c",
   "metadata": {},
   "source": [
    "### Linear Regression Models by Month"
   ]
  },
  {
   "cell_type": "markdown",
   "id": "a84ce7f1-4fbf-40d3-a791-a09e3e1f120e",
   "metadata": {},
   "source": [
    "This task involves creating linear regression models for each month, where ozone levels predict temperature (in Celsius). The coefficients (intercept and slope) and the coefficient of determination (R²) are calculated and stored in a data frame for each model."
   ]
  },
  {
   "cell_type": "code",
   "execution_count": 23,
   "id": "424acdeb-eccc-40b6-bb35-071e35f4a0dd",
   "metadata": {},
   "outputs": [
    {
     "data": {
      "text/html": [
       "<table class=\"dataframe\">\n",
       "<caption>A data.frame: 5 × 4</caption>\n",
       "<thead>\n",
       "\t<tr><th scope=col>Month</th><th scope=col>Intercept</th><th scope=col>Slope</th><th scope=col>R_Squared</th></tr>\n",
       "\t<tr><th scope=col>&lt;dbl&gt;</th><th scope=col>&lt;dbl&gt;</th><th scope=col>&lt;dbl&gt;</th><th scope=col>&lt;dbl&gt;</th></tr>\n",
       "</thead>\n",
       "<tbody>\n",
       "\t<tr><td>5</td><td>16.76414</td><td>0.09862721</td><td>0.3751814</td></tr>\n",
       "\t<tr><td>6</td><td>20.97240</td><td>0.15984732</td><td>0.4466764</td></tr>\n",
       "\t<tr><td>7</td><td>25.49429</td><td>0.05633893</td><td>0.5222987</td></tr>\n",
       "\t<tr><td>8</td><td>25.31091</td><td>0.05681489</td><td>0.3666165</td></tr>\n",
       "\t<tr><td>9</td><td>19.84612</td><td>0.16205699</td><td>0.6858359</td></tr>\n",
       "</tbody>\n",
       "</table>\n"
      ],
      "text/latex": [
       "A data.frame: 5 × 4\n",
       "\\begin{tabular}{llll}\n",
       " Month & Intercept & Slope & R\\_Squared\\\\\n",
       " <dbl> & <dbl> & <dbl> & <dbl>\\\\\n",
       "\\hline\n",
       "\t 5 & 16.76414 & 0.09862721 & 0.3751814\\\\\n",
       "\t 6 & 20.97240 & 0.15984732 & 0.4466764\\\\\n",
       "\t 7 & 25.49429 & 0.05633893 & 0.5222987\\\\\n",
       "\t 8 & 25.31091 & 0.05681489 & 0.3666165\\\\\n",
       "\t 9 & 19.84612 & 0.16205699 & 0.6858359\\\\\n",
       "\\end{tabular}\n"
      ],
      "text/markdown": [
       "\n",
       "A data.frame: 5 × 4\n",
       "\n",
       "| Month &lt;dbl&gt; | Intercept &lt;dbl&gt; | Slope &lt;dbl&gt; | R_Squared &lt;dbl&gt; |\n",
       "|---|---|---|---|\n",
       "| 5 | 16.76414 | 0.09862721 | 0.3751814 |\n",
       "| 6 | 20.97240 | 0.15984732 | 0.4466764 |\n",
       "| 7 | 25.49429 | 0.05633893 | 0.5222987 |\n",
       "| 8 | 25.31091 | 0.05681489 | 0.3666165 |\n",
       "| 9 | 19.84612 | 0.16205699 | 0.6858359 |\n",
       "\n"
      ],
      "text/plain": [
       "  Month Intercept Slope      R_Squared\n",
       "1 5     16.76414  0.09862721 0.3751814\n",
       "2 6     20.97240  0.15984732 0.4466764\n",
       "3 7     25.49429  0.05633893 0.5222987\n",
       "4 8     25.31091  0.05681489 0.3666165\n",
       "5 9     19.84612  0.16205699 0.6858359"
      ]
     },
     "metadata": {},
     "output_type": "display_data"
    }
   ],
   "source": [
    "monthly<-split(new_airquality,new_airquality$Month)\n",
    "\n",
    "\n",
    "df<-data.frame(Miesiąc=integer(),Wyraz_wolny=double(),Współczynnik_kierunkowy=double(),Współczynnik_determinacji=double())\n",
    "\n",
    "for (m in names(monthly)) \n",
    "{\n",
    "  model <- lm(Temp ~ Ozone, data = monthly[[m]])\n",
    "  intercept <- coef(model)[1]  # Intercept is the 1st coefficient of the regression\n",
    "  slope <- coef(model)[2]  # Slope is the 2nd coefficient of the regression\n",
    "  r_squared <- summary(model)$r.squared  # R-squared from the regression summary\n",
    "  # Append the data\n",
    "  df <- rbind(df, data.frame(\n",
    "    Month = as.numeric(m), \n",
    "    Intercept = intercept,\n",
    "    Slope = slope, \n",
    "    R_Squared = r_squared\n",
    "  ))\n",
    "  row.names(df) <- NULL  # Remove row names\n",
    "}\n",
    "\n",
    "View(df)\n"
   ]
  },
  {
   "cell_type": "code",
   "execution_count": null,
   "id": "ae5b8e14-3a24-4660-89ca-b9cdfc8601d9",
   "metadata": {},
   "outputs": [],
   "source": []
  }
 ],
 "metadata": {
  "kernelspec": {
   "display_name": "R",
   "language": "R",
   "name": "ir"
  },
  "language_info": {
   "codemirror_mode": "r",
   "file_extension": ".r",
   "mimetype": "text/x-r-source",
   "name": "R",
   "pygments_lexer": "r",
   "version": "4.4.2"
  }
 },
 "nbformat": 4,
 "nbformat_minor": 5
}
