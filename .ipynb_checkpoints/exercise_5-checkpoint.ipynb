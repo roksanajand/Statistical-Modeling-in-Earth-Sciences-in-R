{
 "cells": [
  {
   "cell_type": "markdown",
   "id": "971df461-cfe7-4b0e-a523-5d1d8ac6c54e",
   "metadata": {},
   "source": [
    "# Multiple Linear Regression\n",
    "\n",
    "\n"
   ]
  },
  {
   "cell_type": "markdown",
   "id": "e1cd6e19-635e-4b56-b23e-a6b9bc60759f",
   "metadata": {},
   "source": [
    "### Air Pollution Data Preparation for Modeling"
   ]
  },
  {
   "cell_type": "code",
   "execution_count": 13,
   "id": "9ec367bb-4db8-477d-9230-134a69f43415",
   "metadata": {},
   "outputs": [
    {
     "data": {
      "text/html": [
       "<table class=\"dataframe\">\n",
       "<caption>A data.frame: 6 × 10</caption>\n",
       "<thead>\n",
       "\t<tr><th></th><th scope=col>month</th><th scope=col>day</th><th scope=col>hour</th><th scope=col>PM2.5</th><th scope=col>PM10</th><th scope=col>SO2</th><th scope=col>NO2</th><th scope=col>CO</th><th scope=col>O3</th><th scope=col>TEMP</th></tr>\n",
       "\t<tr><th></th><th scope=col>&lt;int&gt;</th><th scope=col>&lt;int&gt;</th><th scope=col>&lt;int&gt;</th><th scope=col>&lt;int&gt;</th><th scope=col>&lt;dbl&gt;</th><th scope=col>&lt;dbl&gt;</th><th scope=col>&lt;dbl&gt;</th><th scope=col>&lt;int&gt;</th><th scope=col>&lt;dbl&gt;</th><th scope=col>&lt;dbl&gt;</th></tr>\n",
       "</thead>\n",
       "<tbody>\n",
       "\t<tr><th scope=row>1</th><td>3</td><td>1</td><td>12</td><td>  8</td><td>  8</td><td>  3</td><td>12</td><td> 300</td><td>64</td><td> 2.8</td></tr>\n",
       "\t<tr><th scope=row>2</th><td>3</td><td>2</td><td>12</td><td> 19</td><td> 22</td><td> 17</td><td>45</td><td> 600</td><td>37</td><td> 2.1</td></tr>\n",
       "\t<tr><th scope=row>3</th><td>3</td><td>3</td><td>12</td><td> 95</td><td>106</td><td> 60</td><td>73</td><td>1700</td><td>28</td><td>11.8</td></tr>\n",
       "\t<tr><th scope=row>4</th><td>3</td><td>4</td><td>12</td><td>  3</td><td>  7</td><td>  5</td><td>15</td><td> 500</td><td>83</td><td>13.4</td></tr>\n",
       "\t<tr><th scope=row>5</th><td>3</td><td>5</td><td>12</td><td>127</td><td>147</td><td> 76</td><td>68</td><td>1800</td><td>33</td><td>12.3</td></tr>\n",
       "\t<tr><th scope=row>6</th><td>3</td><td>6</td><td>12</td><td>160</td><td>174</td><td>103</td><td>87</td><td>2700</td><td>61</td><td> 9.7</td></tr>\n",
       "</tbody>\n",
       "</table>\n"
      ],
      "text/latex": [
       "A data.frame: 6 × 10\n",
       "\\begin{tabular}{r|llllllllll}\n",
       "  & month & day & hour & PM2.5 & PM10 & SO2 & NO2 & CO & O3 & TEMP\\\\\n",
       "  & <int> & <int> & <int> & <int> & <dbl> & <dbl> & <dbl> & <int> & <dbl> & <dbl>\\\\\n",
       "\\hline\n",
       "\t1 & 3 & 1 & 12 &   8 &   8 &   3 & 12 &  300 & 64 &  2.8\\\\\n",
       "\t2 & 3 & 2 & 12 &  19 &  22 &  17 & 45 &  600 & 37 &  2.1\\\\\n",
       "\t3 & 3 & 3 & 12 &  95 & 106 &  60 & 73 & 1700 & 28 & 11.8\\\\\n",
       "\t4 & 3 & 4 & 12 &   3 &   7 &   5 & 15 &  500 & 83 & 13.4\\\\\n",
       "\t5 & 3 & 5 & 12 & 127 & 147 &  76 & 68 & 1800 & 33 & 12.3\\\\\n",
       "\t6 & 3 & 6 & 12 & 160 & 174 & 103 & 87 & 2700 & 61 &  9.7\\\\\n",
       "\\end{tabular}\n"
      ],
      "text/markdown": [
       "\n",
       "A data.frame: 6 × 10\n",
       "\n",
       "| <!--/--> | month &lt;int&gt; | day &lt;int&gt; | hour &lt;int&gt; | PM2.5 &lt;int&gt; | PM10 &lt;dbl&gt; | SO2 &lt;dbl&gt; | NO2 &lt;dbl&gt; | CO &lt;int&gt; | O3 &lt;dbl&gt; | TEMP &lt;dbl&gt; |\n",
       "|---|---|---|---|---|---|---|---|---|---|---|\n",
       "| 1 | 3 | 1 | 12 |   8 |   8 |   3 | 12 |  300 | 64 |  2.8 |\n",
       "| 2 | 3 | 2 | 12 |  19 |  22 |  17 | 45 |  600 | 37 |  2.1 |\n",
       "| 3 | 3 | 3 | 12 |  95 | 106 |  60 | 73 | 1700 | 28 | 11.8 |\n",
       "| 4 | 3 | 4 | 12 |   3 |   7 |   5 | 15 |  500 | 83 | 13.4 |\n",
       "| 5 | 3 | 5 | 12 | 127 | 147 |  76 | 68 | 1800 | 33 | 12.3 |\n",
       "| 6 | 3 | 6 | 12 | 160 | 174 | 103 | 87 | 2700 | 61 |  9.7 |\n",
       "\n"
      ],
      "text/plain": [
       "  month day hour PM2.5 PM10 SO2 NO2 CO   O3 TEMP\n",
       "1 3     1   12     8     8    3 12   300 64  2.8\n",
       "2 3     2   12    19    22   17 45   600 37  2.1\n",
       "3 3     3   12    95   106   60 73  1700 28 11.8\n",
       "4 3     4   12     3     7    5 15   500 83 13.4\n",
       "5 3     5   12   127   147   76 68  1800 33 12.3\n",
       "6 3     6   12   160   174  103 87  2700 61  9.7"
      ]
     },
     "metadata": {},
     "output_type": "display_data"
    }
   ],
   "source": [
    "my_data <- read.table(\"zanieczyszczenia.txt\", header = TRUE)\n",
    "head(my_data)\n"
   ]
  },
  {
   "cell_type": "code",
   "execution_count": 14,
   "id": "9334903b-21b6-487a-9462-8219f5f2e964",
   "metadata": {},
   "outputs": [
    {
     "data": {
      "text/html": [
       "<table class=\"dataframe\">\n",
       "<caption>A data.frame: 6 × 7</caption>\n",
       "<thead>\n",
       "\t<tr><th></th><th scope=col>PM2.5</th><th scope=col>PM10</th><th scope=col>SO2</th><th scope=col>NO2</th><th scope=col>CO</th><th scope=col>O3</th><th scope=col>TEMP</th></tr>\n",
       "\t<tr><th></th><th scope=col>&lt;int&gt;</th><th scope=col>&lt;dbl&gt;</th><th scope=col>&lt;dbl&gt;</th><th scope=col>&lt;dbl&gt;</th><th scope=col>&lt;int&gt;</th><th scope=col>&lt;dbl&gt;</th><th scope=col>&lt;dbl&gt;</th></tr>\n",
       "</thead>\n",
       "<tbody>\n",
       "\t<tr><th scope=row>1</th><td>  8</td><td>  8</td><td>  3</td><td>12</td><td> 300</td><td>64</td><td> 2.8</td></tr>\n",
       "\t<tr><th scope=row>2</th><td> 19</td><td> 22</td><td> 17</td><td>45</td><td> 600</td><td>37</td><td> 2.1</td></tr>\n",
       "\t<tr><th scope=row>3</th><td> 95</td><td>106</td><td> 60</td><td>73</td><td>1700</td><td>28</td><td>11.8</td></tr>\n",
       "\t<tr><th scope=row>4</th><td>  3</td><td>  7</td><td>  5</td><td>15</td><td> 500</td><td>83</td><td>13.4</td></tr>\n",
       "\t<tr><th scope=row>5</th><td>127</td><td>147</td><td> 76</td><td>68</td><td>1800</td><td>33</td><td>12.3</td></tr>\n",
       "\t<tr><th scope=row>6</th><td>160</td><td>174</td><td>103</td><td>87</td><td>2700</td><td>61</td><td> 9.7</td></tr>\n",
       "</tbody>\n",
       "</table>\n"
      ],
      "text/latex": [
       "A data.frame: 6 × 7\n",
       "\\begin{tabular}{r|lllllll}\n",
       "  & PM2.5 & PM10 & SO2 & NO2 & CO & O3 & TEMP\\\\\n",
       "  & <int> & <dbl> & <dbl> & <dbl> & <int> & <dbl> & <dbl>\\\\\n",
       "\\hline\n",
       "\t1 &   8 &   8 &   3 & 12 &  300 & 64 &  2.8\\\\\n",
       "\t2 &  19 &  22 &  17 & 45 &  600 & 37 &  2.1\\\\\n",
       "\t3 &  95 & 106 &  60 & 73 & 1700 & 28 & 11.8\\\\\n",
       "\t4 &   3 &   7 &   5 & 15 &  500 & 83 & 13.4\\\\\n",
       "\t5 & 127 & 147 &  76 & 68 & 1800 & 33 & 12.3\\\\\n",
       "\t6 & 160 & 174 & 103 & 87 & 2700 & 61 &  9.7\\\\\n",
       "\\end{tabular}\n"
      ],
      "text/markdown": [
       "\n",
       "A data.frame: 6 × 7\n",
       "\n",
       "| <!--/--> | PM2.5 &lt;int&gt; | PM10 &lt;dbl&gt; | SO2 &lt;dbl&gt; | NO2 &lt;dbl&gt; | CO &lt;int&gt; | O3 &lt;dbl&gt; | TEMP &lt;dbl&gt; |\n",
       "|---|---|---|---|---|---|---|---|\n",
       "| 1 |   8 |   8 |   3 | 12 |  300 | 64 |  2.8 |\n",
       "| 2 |  19 |  22 |  17 | 45 |  600 | 37 |  2.1 |\n",
       "| 3 |  95 | 106 |  60 | 73 | 1700 | 28 | 11.8 |\n",
       "| 4 |   3 |   7 |   5 | 15 |  500 | 83 | 13.4 |\n",
       "| 5 | 127 | 147 |  76 | 68 | 1800 | 33 | 12.3 |\n",
       "| 6 | 160 | 174 | 103 | 87 | 2700 | 61 |  9.7 |\n",
       "\n"
      ],
      "text/plain": [
       "  PM2.5 PM10 SO2 NO2 CO   O3 TEMP\n",
       "1   8     8    3 12   300 64  2.8\n",
       "2  19    22   17 45   600 37  2.1\n",
       "3  95   106   60 73  1700 28 11.8\n",
       "4   3     7    5 15   500 83 13.4\n",
       "5 127   147   76 68  1800 33 12.3\n",
       "6 160   174  103 87  2700 61  9.7"
      ]
     },
     "metadata": {},
     "output_type": "display_data"
    }
   ],
   "source": [
    "dane<- na.omit(my_data)\n",
    "dane2 <- dane %>% \n",
    "  select(-month, -day, -hour)\n",
    "head(dane2) "
   ]
  },
  {
   "cell_type": "markdown",
   "id": "d736cea6-f34c-407f-aed7-abd5da25ed5f",
   "metadata": {},
   "source": [
    "### Linear Regression Model for Air Temperature Prediction"
   ]
  },
  {
   "cell_type": "markdown",
   "id": "46079c09-d48c-4bc0-be8e-1ee24dd3383f",
   "metadata": {},
   "source": [
    "This task calculates the correlation matrix for air pollution variables and selects independent variables with moderate correlations to include in a linear regression model predicting air temperature (TEMP). The selected variables are SO2, NO2, CO, and O3, while highly correlated variables (PM2.5 and PM10) are excluded. The linear regression model is built to analyze the influence of these independent variables on air temperature. The model's coefficients, Residual Sum of Squares (RSS), Residual Standard Error (RSE), and R-squared (R²) are calculated to evaluate its fit."
   ]
  },
  {
   "cell_type": "code",
   "execution_count": 15,
   "id": "961a8800-31a5-4f75-a94c-ebe3d9f51fcd",
   "metadata": {},
   "outputs": [
    {
     "name": "stdout",
     "output_type": "stream",
     "text": [
      "            PM2.5         PM10        SO2        NO2         CO          O3\n",
      "PM2.5  1.00000000  0.929209653  0.5427403  0.7414345  0.8080544 -0.09498647\n",
      "PM10   0.92920965  1.000000000  0.5596753  0.7451827  0.7693860 -0.10128914\n",
      "SO2    0.54274034  0.559675287  1.0000000  0.6573867  0.6038148 -0.29558754\n",
      "NO2    0.74143450  0.745182665  0.6573867  1.0000000  0.7596070 -0.43586431\n",
      "CO     0.80805436  0.769386013  0.6038148  0.7596070  1.0000000 -0.29613393\n",
      "O3    -0.09498647 -0.101289135 -0.2955875 -0.4358643 -0.2961339  1.00000000\n",
      "TEMP  -0.02870710 -0.007391401 -0.2865561 -0.2379080 -0.1948071  0.68124989\n",
      "              TEMP\n",
      "PM2.5 -0.028707098\n",
      "PM10  -0.007391401\n",
      "SO2   -0.286556128\n",
      "NO2   -0.237908000\n",
      "CO    -0.194807142\n",
      "O3     0.681249890\n",
      "TEMP   1.000000000\n"
     ]
    }
   ],
   "source": [
    "macierz_korelacji <- cor(dane2, use = \"complete.obs\")\n",
    "\n",
    "print(macierz_korelacji)\n",
    "\n",
    "dane_model <- dane2 %>%\n",
    "  select(SO2, NO2, CO, O3, TEMP) \n"
   ]
  },
  {
   "cell_type": "code",
   "execution_count": 16,
   "id": "8061168a-7d41-4b61-9010-3127f4acf47c",
   "metadata": {},
   "outputs": [],
   "source": [
    "model_2 <- lm(TEMP ~ SO2 + NO2 + CO + O3, data = dane_model)\n",
    "sum_model<-summary(model_2)\n"
   ]
  },
  {
   "cell_type": "code",
   "execution_count": 20,
   "id": "c3c58186-dc6d-4663-971a-5f6e03a684fd",
   "metadata": {},
   "outputs": [
    {
     "name": "stdout",
     "output_type": "stream",
     "text": [
      "                 Estimate   Std. Error   t value      Pr(>|t|)\n",
      "(Intercept)  2.5948689246 0.6359765607  4.080133  4.781307e-05\n",
      "SO2         -0.1041748470 0.0133928542 -7.778390  1.510629e-14\n",
      "NO2          0.1027068109 0.0148171406  6.931622  6.599259e-12\n",
      "CO          -0.0004575303 0.0003573789 -1.280239  2.006948e-01\n",
      "O3           0.1641486729 0.0051090617 32.128928 2.742992e-166\n",
      "                         Metric     Value\n",
      "1 Residual Sum of Squares (RSS) 79926.923\n",
      "2 Residual Standard Error (RSE)     7.930\n",
      "3                R-squared (R²)     0.496\n"
     ]
    }
   ],
   "source": [
    "\n",
    "wspolczynniki <- sum_model$coefficients\n",
    "print(wspolczynniki)\n",
    "\n",
    "# Calculate metrics for the linear regression model\n",
    "rss <- sum(sum_model$residuals^2)  # Residual Sum of Squares\n",
    "rse <- sum_model$sigma            # Residual Standard Error\n",
    "r2 <- sum_model$r.squared         # R-squared\n",
    "\n",
    "# Display the metrics in a well-formatted table\n",
    "model_metrics <- data.frame(\n",
    "  Metric = c(\"Residual Sum of Squares (RSS)\", \n",
    "             \"Residual Standard Error (RSE)\", \n",
    "             \"R-squared (R²)\"),\n",
    "  Value = round(c(rss, rse, r2), 4)\n",
    ")\n",
    "\n",
    "print(model_metrics)\n",
    "\n"
   ]
  },
  {
   "cell_type": "markdown",
   "id": "b3ffcc13-ba54-41da-a287-bac31552122a",
   "metadata": {},
   "source": [
    "### Predicting Temperature Using a Linear Regression Model"
   ]
  },
  {
   "cell_type": "code",
   "execution_count": 22,
   "id": "b5a68a4d-2efb-4d71-a7d5-edf441b285f6",
   "metadata": {},
   "outputs": [
    {
     "name": "stdout",
     "output_type": "stream",
     "text": [
      "[1] \"Predicted Temperature: 16.53\"\n"
     ]
    }
   ],
   "source": [
    "predictions <- data.frame(\n",
    "  SO2 = 25,\n",
    "  NO2 = 90,\n",
    "  CO = 2000,\n",
    "  O3 = 50\n",
    ")\n",
    "\n",
    "predicted_temp <- predict(model_2, newdata = predictions)\n",
    "\n",
    "print(paste(\"Predicted Temperature:\", round(predicted_temp, 2)))\n"
   ]
  },
  {
   "cell_type": "code",
   "execution_count": null,
   "id": "743fc862-230f-4281-839f-78df5f6452e4",
   "metadata": {},
   "outputs": [],
   "source": []
  }
 ],
 "metadata": {
  "kernelspec": {
   "display_name": "R",
   "language": "R",
   "name": "ir"
  },
  "language_info": {
   "codemirror_mode": "r",
   "file_extension": ".r",
   "mimetype": "text/x-r-source",
   "name": "R",
   "pygments_lexer": "r",
   "version": "4.4.2"
  }
 },
 "nbformat": 4,
 "nbformat_minor": 5
}
