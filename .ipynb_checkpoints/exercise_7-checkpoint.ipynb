{
 "cells": [
  {
   "cell_type": "markdown",
   "id": "547f7ff7-3bda-44f2-b708-110b571b3c3e",
   "metadata": {},
   "source": [
    "# Training and Evaluation of Regression Models"
   ]
  },
  {
   "cell_type": "markdown",
   "id": "fd01cccb-3288-433a-bcca-9edefda5e8e8",
   "metadata": {},
   "source": [
    "## Model Building and Prediction\n",
    "\n",
    "\n",
    "\n",
    "\n",
    "\n",
    "\n"
   ]
  },
  {
   "cell_type": "markdown",
   "id": "aa586fcd-1155-4f57-9ae4-f9d6f9498d07",
   "metadata": {},
   "source": [
    "### Processed Data from Exercise 6 for Further Analysis\n",
    "\n",
    "\n",
    "\n",
    "\n",
    "\n",
    "\n"
   ]
  },
  {
   "cell_type": "code",
   "execution_count": 6,
   "id": "846ace89-0515-42a5-9fd1-26e9d7391daf",
   "metadata": {},
   "outputs": [
    {
     "data": {
      "text/html": [
       "<style>\n",
       ".dl-inline {width: auto; margin:0; padding: 0}\n",
       ".dl-inline>dt, .dl-inline>dd {float: none; width: auto; display: inline-block}\n",
       ".dl-inline>dt::after {content: \":\\0020\"; padding-right: .5ex}\n",
       ".dl-inline>dt:not(:first-of-type) {padding-left: .5ex}\n",
       "</style><dl class=dl-inline><dt>LAT</dt><dd>0</dd><dt>LON</dt><dd>0</dd><dt>ALTITUDE</dt><dd>0</dd><dt>RECORD.LENGTH</dt><dd>0</dd><dt>MEAN.ANNUAL.AIR.TEMP</dt><dd>&lt;NA&gt;</dd><dt>MEAN.MONTHLY.MAX.TEMP</dt><dd>&lt;NA&gt;</dd><dt>MEAN.MONTHLY.MIN.TEMP</dt><dd>&lt;NA&gt;</dd><dt>MEAN.ANNUAL.WIND.SPEED</dt><dd>&lt;NA&gt;</dd><dt>MEAN.CLOUD.COVER</dt><dd>&lt;NA&gt;</dd><dt>MEAN.ANNUAL.SUNSHINE</dt><dd>&lt;NA&gt;</dd><dt>MEAN.ANNUAL.RAINFALL</dt><dd>&lt;NA&gt;</dd><dt>MAX.MONTHLY.WIND.SPEED</dt><dd>&lt;NA&gt;</dd><dt>MAX.AIR.TEMP</dt><dd>&lt;NA&gt;</dd><dt>MAX.WIND.SPEED</dt><dd>&lt;NA&gt;</dd><dt>MAX.RAINFALL</dt><dd>&lt;NA&gt;</dd><dt>MIN.AIR.TEMP</dt><dd>&lt;NA&gt;</dd><dt>MEAN.RANGE.AIR.TEMP</dt><dd>0</dd></dl>\n"
      ],
      "text/latex": [
       "\\begin{description*}\n",
       "\\item[LAT] 0\n",
       "\\item[LON] 0\n",
       "\\item[ALTITUDE] 0\n",
       "\\item[RECORD.LENGTH] 0\n",
       "\\item[MEAN.ANNUAL.AIR.TEMP] <NA>\n",
       "\\item[MEAN.MONTHLY.MAX.TEMP] <NA>\n",
       "\\item[MEAN.MONTHLY.MIN.TEMP] <NA>\n",
       "\\item[MEAN.ANNUAL.WIND.SPEED] <NA>\n",
       "\\item[MEAN.CLOUD.COVER] <NA>\n",
       "\\item[MEAN.ANNUAL.SUNSHINE] <NA>\n",
       "\\item[MEAN.ANNUAL.RAINFALL] <NA>\n",
       "\\item[MAX.MONTHLY.WIND.SPEED] <NA>\n",
       "\\item[MAX.AIR.TEMP] <NA>\n",
       "\\item[MAX.WIND.SPEED] <NA>\n",
       "\\item[MAX.RAINFALL] <NA>\n",
       "\\item[MIN.AIR.TEMP] <NA>\n",
       "\\item[MEAN.RANGE.AIR.TEMP] 0\n",
       "\\end{description*}\n"
      ],
      "text/markdown": [
       "LAT\n",
       ":   0LON\n",
       ":   0ALTITUDE\n",
       ":   0RECORD.LENGTH\n",
       ":   0MEAN.ANNUAL.AIR.TEMP\n",
       ":   &lt;NA&gt;MEAN.MONTHLY.MAX.TEMP\n",
       ":   &lt;NA&gt;MEAN.MONTHLY.MIN.TEMP\n",
       ":   &lt;NA&gt;MEAN.ANNUAL.WIND.SPEED\n",
       ":   &lt;NA&gt;MEAN.CLOUD.COVER\n",
       ":   &lt;NA&gt;MEAN.ANNUAL.SUNSHINE\n",
       ":   &lt;NA&gt;MEAN.ANNUAL.RAINFALL\n",
       ":   &lt;NA&gt;MAX.MONTHLY.WIND.SPEED\n",
       ":   &lt;NA&gt;MAX.AIR.TEMP\n",
       ":   &lt;NA&gt;MAX.WIND.SPEED\n",
       ":   &lt;NA&gt;MAX.RAINFALL\n",
       ":   &lt;NA&gt;MIN.AIR.TEMP\n",
       ":   &lt;NA&gt;MEAN.RANGE.AIR.TEMP\n",
       ":   0\n",
       "\n"
      ],
      "text/plain": [
       "                   LAT                    LON               ALTITUDE \n",
       "                     0                      0                      0 \n",
       "         RECORD.LENGTH   MEAN.ANNUAL.AIR.TEMP  MEAN.MONTHLY.MAX.TEMP \n",
       "                     0                     NA                     NA \n",
       " MEAN.MONTHLY.MIN.TEMP MEAN.ANNUAL.WIND.SPEED       MEAN.CLOUD.COVER \n",
       "                    NA                     NA                     NA \n",
       "  MEAN.ANNUAL.SUNSHINE   MEAN.ANNUAL.RAINFALL MAX.MONTHLY.WIND.SPEED \n",
       "                    NA                     NA                     NA \n",
       "          MAX.AIR.TEMP         MAX.WIND.SPEED           MAX.RAINFALL \n",
       "                    NA                     NA                     NA \n",
       "          MIN.AIR.TEMP    MEAN.RANGE.AIR.TEMP \n",
       "                    NA                      0 "
      ]
     },
     "metadata": {},
     "output_type": "display_data"
    }
   ],
   "source": [
    "dane <- read.csv2(\"weather.csv\")\n",
    "dane_nowe = dane[c( 'LAT', 'LON', 'ALTITUDE', 'RECORD.LENGTH','MEAN.ANNUAL.AIR.TEMP', 'MEAN.MONTHLY.MAX.TEMP', 'MEAN.MONTHLY.MIN.TEMP', 'MEAN.ANNUAL.WIND.SPEED', 'MEAN.CLOUD.COVER','MEAN.ANNUAL.SUNSHINE', 'MEAN.ANNUAL.RAINFALL', 'MAX.MONTHLY.WIND.SPEED', 'MAX.AIR.TEMP', 'MAX.WIND.SPEED', 'MAX.RAINFALL', 'MIN.AIR.TEMP', 'MEAN.RANGE.AIR.TEMP')]\n",
    "\n",
    "sapply(dane_nowe, function(x) sum(x == \"\"))\n",
    "dane_nowe[dane_nowe == \"\"] <- NA\n",
    "liczba_wierszy_przed <- nrow(dane_nowe)\n",
    "dane_czyste <- na.omit(dane_nowe)\n",
    "liczba_wierszy_po <- nrow(dane_czyste)\n",
    "liczba_usunietych_wierszy <- liczba_wierszy_przed - liczba_wierszy_po\n",
    "\n",
    "split = sample.split(dane_czyste, SplitRatio = 0.3 , group = NULL)\n",
    "dane_uczace = subset(dane_czyste, split == FALSE)\n",
    "dane_testowe = subset(dane_czyste, split == TRUE)\n",
    "\n",
    "vec_train = as.vector(dane_uczace['MEAN.ANNUAL.RAINFALL'])\n",
    "\n",
    "vec_test = as.vector(dane_testowe['MEAN.ANNUAL.RAINFALL'])\n",
    "\n",
    "\n",
    "matrix_test = data.matrix(dane_testowe[colnames(dane_testowe) != 'MEAN.ANNUAL.RAINFALL']) #bez zmiennej objaśnianej\n",
    "matrix_train = data.matrix(dane_uczace[colnames(dane_uczace) != 'MEAN.ANNUAL.RAINFALL'])\n",
    "korelacja <-  cor(dane_czyste)\n"
   ]
  },
  {
   "cell_type": "markdown",
   "id": "ac379a6b-b1a1-4322-8289-fbd6a8f1c914",
   "metadata": {},
   "source": [
    "### Baseline Model for Annual Rainfall Prediction\n",
    "\n"
   ]
  },
  {
   "cell_type": "markdown",
   "id": "533e0261-bc83-4a06-b3ec-b92f155613ad",
   "metadata": {},
   "source": [
    "This task involves creating the simplest baseline model for predicting mean annual rainfall, which does not include any explanatory variables. The baseline model predicts the same average value for all observations. The predicted value is compared to the mean annual rainfall at all stations. Additionally, the Root Mean Square Error (RMSE) is calculated to measure the error between observed and predicted rainfall values."
   ]
  },
  {
   "cell_type": "code",
   "execution_count": 7,
   "id": "1efac6c0-d47e-4d79-b4bb-f72b23ae76e6",
   "metadata": {},
   "outputs": [
    {
     "data": {
      "text/html": [
       "<style>\n",
       ".dl-inline {width: auto; margin:0; padding: 0}\n",
       ".dl-inline>dt, .dl-inline>dd {float: none; width: auto; display: inline-block}\n",
       ".dl-inline>dt::after {content: \":\\0020\"; padding-right: .5ex}\n",
       ".dl-inline>dt:not(:first-of-type) {padding-left: .5ex}\n",
       "</style><dl class=dl-inline><dt>(Intercept)</dt><dd>749.243055555556</dd><dt>2</dt><dd>749.243055555556</dd></dl>\n"
      ],
      "text/latex": [
       "\\begin{description*}\n",
       "\\item[(Intercept)] 749.243055555556\n",
       "\\item[2] 749.243055555556\n",
       "\\end{description*}\n"
      ],
      "text/markdown": [
       "(Intercept)\n",
       ":   749.2430555555562\n",
       ":   749.243055555556\n",
       "\n"
      ],
      "text/plain": [
       "(Intercept)             \n",
       "   749.2431    749.2431 "
      ]
     },
     "metadata": {},
     "output_type": "display_data"
    }
   ],
   "source": [
    "model1 = lm(MEAN.ANNUAL.RAINFALL ~ 1, data = dane_uczace)\n",
    "\n",
    "srednia <- mean(dane_uczace$MEAN.ANNUAL.RAINFALL, rm.na=TRUE)\n",
    "\n",
    "porownanie<-c(coef(model1),srednia)\n",
    "porownanie\n"
   ]
  },
  {
   "cell_type": "code",
   "execution_count": 8,
   "id": "bdcc9071-7b96-4e53-99bc-7c22fdd93035",
   "metadata": {},
   "outputs": [
    {
     "name": "stdout",
     "output_type": "stream",
     "text": [
      "[1] 237.8738\n"
     ]
    }
   ],
   "source": [
    "\n",
    "rmse1_tr <-sqrt(mean((model1$residuals^2)))\n",
    "\n",
    "print(rmse1_tr)"
   ]
  },
  {
   "cell_type": "markdown",
   "id": "f94b5b69-8477-4f58-8c31-32725207feb5",
   "metadata": {},
   "source": [
    "### Baseline Model Prediction on Test Data\n",
    "\n"
   ]
  },
  {
   "cell_type": "markdown",
   "id": "27eccf26-cc59-4634-91c7-14c8148c2418",
   "metadata": {},
   "source": [
    "This task applies the baseline model to the test dataset using the predict() function. The predicted mean annual rainfall values are compared to the observed values in the test set. The Root Mean Square Error (RMSE) is calculated to evaluate the prediction accuracy of the baseline model on the test dataset."
   ]
  },
  {
   "cell_type": "code",
   "execution_count": 9,
   "id": "621766db-b2ea-42e7-9810-47ef223d63ea",
   "metadata": {},
   "outputs": [
    {
     "name": "stdout",
     "output_type": "stream",
     "text": [
      "[1] 216.2409\n"
     ]
    }
   ],
   "source": [
    "predict1 <- predict(model1, newdata = dane_testowe)\n",
    "rmse2_test <- sqrt(mean((predict1 - dane_testowe$MEAN.ANNUAL.RAINFALL)^2))\n",
    "\n",
    "print(rmse2_test)\n"
   ]
  },
  {
   "cell_type": "markdown",
   "id": "92e39ae8-9920-449a-b000-6b4d6a784d63",
   "metadata": {},
   "source": [
    "### Linear Regression Model Based on Pearson Correlation"
   ]
  },
  {
   "cell_type": "markdown",
   "id": "d1b24e16-612d-439f-8147-1a9cf77d56aa",
   "metadata": {},
   "source": [
    "This task involves creating a linear regression model where the independent variable is the feature with a Pearson correlation coefficient of approximately 0.76 relative to mean annual rainfall. The model is trained on the training dataset, and the Root Mean Square Error (RMSE) is calculated to evaluate its performance on observed versus predicted values."
   ]
  },
  {
   "cell_type": "code",
   "execution_count": 10,
   "id": "b86304cb-9340-451d-bb40-30ec2bf39875",
   "metadata": {},
   "outputs": [
    {
     "name": "stdout",
     "output_type": "stream",
     "text": [
      "[1] 154.7157\n"
     ]
    }
   ],
   "source": [
    "cor_0.76 <- names(which.min(abs(korelacja[\"MEAN.ANNUAL.RAINFALL\",] - 0.76)))\n",
    "model2 <- lm(MEAN.ANNUAL.RAINFALL ~ dane_uczace[[cor_0.76]], data = dane_uczace)\n",
    "\n",
    "rmse3_tr <- sqrt(mean((model2$residuals^2)))\n",
    "print(rmse3_tr)\n"
   ]
  },
  {
   "cell_type": "markdown",
   "id": "1eef2696-0b4a-4d37-98ff-1c4bf1b09bf3",
   "metadata": {},
   "source": [
    "### Prediction and Evaluation on Test Data"
   ]
  },
  {
   "cell_type": "markdown",
   "id": "ae6ff73b-347f-464a-8641-389b311a74b8",
   "metadata": {},
   "source": [
    "The linear regression model is applied to the test dataset using the predict() function. Predicted rainfall values are compared to the actual observed values in the test set, and the RMSE is calculated to assess the accuracy of the model's predictions."
   ]
  },
  {
   "cell_type": "code",
   "execution_count": 11,
   "id": "c3cc879e-8817-4051-8009-9faffe5a7442",
   "metadata": {},
   "outputs": [
    {
     "name": "stderr",
     "output_type": "stream",
     "text": [
      "Warning message:\n",
      "\"'newdata' miała 60 wierszy ale znalezione zmienne mają 144 wiersze\"\n",
      "Warning message in predict2 - dane_testowe$MEAN.ANNUAL.RAINFALL:\n",
      "\"długość dłuszego obiektu nie jest wielokrotnością długości krótszego obiektu\"\n"
     ]
    },
    {
     "name": "stdout",
     "output_type": "stream",
     "text": [
      "[1] 289.4598\n"
     ]
    }
   ],
   "source": [
    "predict2 <- predict(model2, newdata = dane_testowe)\n",
    "rmse4_test <- sqrt(mean((predict2 - dane_testowe$MEAN.ANNUAL.RAINFALL)^2))\n",
    "\n",
    "print(rmse4_test)"
   ]
  },
  {
   "cell_type": "markdown",
   "id": "d9be82db-3af5-4fc5-90c4-5b988981eff9",
   "metadata": {},
   "source": [
    "### Linear Regression Model Using Maximum Rainfall\n",
    "\n"
   ]
  },
  {
   "cell_type": "markdown",
   "id": "b64e8ecb-f0b4-4abc-8425-fa8121cf0489",
   "metadata": {},
   "source": [
    "This task involves creating a linear regression model where the independent variable is the maximum recorded rainfall (MAX.RAINFALL). The model is trained on the training dataset, and the Root Mean Square Error (RMSE) is calculated to evaluate its performance in predicting mean annual rainfall."
   ]
  },
  {
   "cell_type": "code",
   "execution_count": 12,
   "id": "f24b0b43-f1d0-4191-adc9-cbb4cb6c3497",
   "metadata": {},
   "outputs": [
    {
     "name": "stdout",
     "output_type": "stream",
     "text": [
      "[1] 112.2167\n"
     ]
    }
   ],
   "source": [
    "model3 <- lm(MEAN.ANNUAL.RAINFALL ~ MAX.RAINFALL, data = dane_uczace)\n",
    "\n",
    "rmse_5_tr <- sqrt(mean((model3$residuals^2)))\n",
    "\n",
    "print(rmse_5_tr)"
   ]
  },
  {
   "cell_type": "markdown",
   "id": "ec33889c-06f6-4c9f-8762-c4fa96e619d8",
   "metadata": {},
   "source": [
    "### Prediction and Evaluation on Test Data\n"
   ]
  },
  {
   "cell_type": "markdown",
   "id": "9a94932c-66cd-4b5c-95d6-df462be9da71",
   "metadata": {},
   "source": [
    "\n",
    "The trained linear regression model is applied to the test dataset using the predict() function. The predicted mean annual rainfall values are compared to the observed values in the test dataset, and the RMSE is computed to assess the accuracy of the predictions."
   ]
  },
  {
   "cell_type": "code",
   "execution_count": 13,
   "id": "540de515-4923-44a4-8980-64aed751fbdb",
   "metadata": {},
   "outputs": [
    {
     "name": "stdout",
     "output_type": "stream",
     "text": [
      "[1] 133.9033\n"
     ]
    }
   ],
   "source": [
    "\n",
    "predict3 <- predict(model3, newdata = dane_testowe)\n",
    "\n",
    "rmse_6_test <- sqrt(mean((predict3 - dane_testowe$MEAN.ANNUAL.RAINFALL)^2))\n",
    "\n",
    "print(rmse_6_test)"
   ]
  },
  {
   "cell_type": "markdown",
   "id": "a89efc1a-9063-4193-8456-9eb69556ba04",
   "metadata": {},
   "source": [
    "### Multiple Linear Regression Model Using ALTITUDE, MAX.RAINFALL, and MEAN.ANNUAL.AIR.TEMP"
   ]
  },
  {
   "cell_type": "markdown",
   "id": "5719009d-2029-40c3-ae45-8e4adb5b5808",
   "metadata": {},
   "source": [
    "This task creates a multiple linear regression model to predict mean annual rainfall (MEAN.ANNUAL.RAINFALL) based on three independent variables: ALTITUDE, MAX.RAINFALL, and MEAN.ANNUAL.AIR.TEMP. The R² coefficient is calculated to evaluate how well the model explains the variance in the dependent variable. An R² value of approximately 0.79 indicates that 79% of the variability in the mean annual rainfall is explained by the model, leaving 21% unexplained."
   ]
  },
  {
   "cell_type": "code",
   "execution_count": 16,
   "id": "22ddeeda-a878-4ab1-8acc-b21ab240dcaa",
   "metadata": {},
   "outputs": [
    {
     "name": "stdout",
     "output_type": "stream",
     "text": [
      "[1] \"Współczynnik R^2 wynosi: 0.795333447288117\"\n",
      "[1] 107.6143\n"
     ]
    }
   ],
   "source": [
    "model4 <- lm(MEAN.ANNUAL.RAINFALL ~ ALTITUDE+MAX.RAINFALL + MEAN.ANNUAL.AIR.TEMP, data = dane_uczace)\n",
    "r_squared <- summary(model4)$r.squared\n",
    "\n",
    "print(paste(\"Współczynnik R^2 wynosi:\", r_squared))\n",
    "\n",
    "rmse7_tr <- sqrt(mean((model4$residuals^2)))\n",
    "\n",
    "print(rmse7_tr)\n"
   ]
  },
  {
   "cell_type": "markdown",
   "id": "8fa9aa47-b61a-40a2-8142-90714c572f34",
   "metadata": {},
   "source": [
    "### Prediction and Evaluation on Test Data"
   ]
  },
  {
   "cell_type": "code",
   "execution_count": 17,
   "id": "e5cd7d54-8736-4607-83fd-0b2503274248",
   "metadata": {},
   "outputs": [
    {
     "name": "stdout",
     "output_type": "stream",
     "text": [
      "[1] 130.7586\n"
     ]
    }
   ],
   "source": [
    "\n",
    "predict4 <- predict(model4, newdata = dane_testowe)\n",
    "rmse_8_test <- sqrt(mean((predict4 - dane_testowe$MEAN.ANNUAL.RAINFALL)^2))\n",
    "\n",
    "print( rmse_8_test)\n"
   ]
  },
  {
   "cell_type": "markdown",
   "id": "10d4fd06-f5b3-46da-9451-0b5410aeb481",
   "metadata": {},
   "source": [
    "### Comparison of RMSE for Baseline, Correlation, Max Rainfall, and Multiple Regression Models"
   ]
  },
  {
   "cell_type": "code",
   "execution_count": 21,
   "id": "7fb91d3d-e21c-48a6-aeaa-d815e7b27d6e",
   "metadata": {},
   "outputs": [
    {
     "name": "stdout",
     "output_type": "stream",
     "text": [
      "                                 Model     RMSE\n",
      "1            Baseline Model (Training) 237.8738\n",
      "2             Baseline Model (Testing) 216.2409\n",
      "3  Correlation = 0.76 Model (Training) 154.7157\n",
      "4   Correlation = 0.76 Model (Testing) 289.4598\n",
      "5        Max Rainfall Model (Training) 112.2167\n",
      "6         Max Rainfall Model (Testing) 133.9033\n",
      "7 Multiple Regression Model (Training) 107.6143\n",
      "8  Multiple Regression Model (Testing) 130.7586\n"
     ]
    },
    {
     "data": {
      "image/png": "[encoded data removed]",
      "text/plain": [
       "plot without title"
      ]
     },
     "metadata": {
      "image/png": {
       "height": 420,
       "width": 420
      }
     },
     "output_type": "display_data"
    }
   ],
   "source": [
    "results <- data.frame(\n",
    "  Model = c(\"Baseline Model (Training)\", \"Baseline Model (Testing)\",  \n",
    "            \"Correlation = 0.76 Model (Training)\", \"Correlation = 0.76 Model (Testing)\",\n",
    "            \"Max Rainfall Model (Training)\", \"Max Rainfall Model (Testing)\", \n",
    "            \"Multiple Regression Model (Training)\", \"Multiple Regression Model (Testing)\"),\n",
    "  RMSE = c(rmse1_tr, rmse2_test, rmse3_tr, rmse4_test, rmse_5_tr, rmse_6_test, rmse7_tr, rmse_8_test)\n",
    ")\n",
    "\n",
    "print(results)\n",
    "\n",
    "library(ggplot2)\n",
    "ggplot(results, aes(x = Model, y = RMSE, fill = factor(grepl(\"Training\", Model)))) +\n",
    "  geom_bar(stat = \"identity\", position = position_dodge(), width = 0.7) +\n",
    "  scale_fill_manual(values = c(\"red\", \"yellow\"), labels = c(\"Testing\", \"Training\")) +\n",
    "  labs(title = \"RMSE for 4 Models\",\n",
    "       x = \"Model\",\n",
    "       y = \"RMSE\",\n",
    "       fill = \"Dataset\") +\n",
    "  theme_minimal() +\n",
    "  theme(axis.text.x = element_text(angle = 90, hjust = 1))\n"
   ]
  },
  {
   "cell_type": "code",
   "execution_count": null,
   "id": "2b61e1dd-9266-4aa3-8703-18a04368c9f9",
   "metadata": {},
   "outputs": [],
   "source": []
  }
 ],
 "metadata": {
  "kernelspec": {
   "display_name": "R",
   "language": "R",
   "name": "ir"
  },
  "language_info": {
   "codemirror_mode": "r",
   "file_extension": ".r",
   "mimetype": "text/x-r-source",
   "name": "R",
   "pygments_lexer": "r",
   "version": "4.4.2"
  }
 },
 "nbformat": 4,
 "nbformat_minor": 5
}
