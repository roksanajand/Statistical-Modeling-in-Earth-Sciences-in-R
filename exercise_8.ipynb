{
 "cells": [
  {
   "cell_type": "markdown",
   "id": "8c4abe30-1e1b-445a-9dbb-07cffdc542a9",
   "metadata": {},
   "source": [
    "# Training and Evaluation of Models\n"
   ]
  },
  {
   "cell_type": "markdown",
   "id": "db5fe7ed-85c5-4211-9b88-524c2d532544",
   "metadata": {},
   "source": [
    "## Part III: Stepwise Methods :  AIC Criterion\n"
   ]
  },
  {
   "cell_type": "markdown",
   "id": "3143e851-a0d6-4790-8b4c-d765b4253e12",
   "metadata": {},
   "source": [
    "### Processed Data from Exercise 6 for Further Analysis"
   ]
  },
  {
   "cell_type": "code",
   "execution_count": 3,
   "id": "fbdc58d4-93d0-444a-80e0-70bb4a6d8288",
   "metadata": {},
   "outputs": [
    {
     "data": {
      "text/html": [
       "<style>\n",
       ".dl-inline {width: auto; margin:0; padding: 0}\n",
       ".dl-inline>dt, .dl-inline>dd {float: none; width: auto; display: inline-block}\n",
       ".dl-inline>dt::after {content: \":\\0020\"; padding-right: .5ex}\n",
       ".dl-inline>dt:not(:first-of-type) {padding-left: .5ex}\n",
       "</style><dl class=dl-inline><dt>LAT</dt><dd>0</dd><dt>LON</dt><dd>0</dd><dt>ALTITUDE</dt><dd>0</dd><dt>RECORD.LENGTH</dt><dd>0</dd><dt>MEAN.ANNUAL.AIR.TEMP</dt><dd>&lt;NA&gt;</dd><dt>MEAN.MONTHLY.MAX.TEMP</dt><dd>&lt;NA&gt;</dd><dt>MEAN.MONTHLY.MIN.TEMP</dt><dd>&lt;NA&gt;</dd><dt>MEAN.ANNUAL.WIND.SPEED</dt><dd>&lt;NA&gt;</dd><dt>MEAN.CLOUD.COVER</dt><dd>&lt;NA&gt;</dd><dt>MEAN.ANNUAL.SUNSHINE</dt><dd>&lt;NA&gt;</dd><dt>MEAN.ANNUAL.RAINFALL</dt><dd>&lt;NA&gt;</dd><dt>MAX.MONTHLY.WIND.SPEED</dt><dd>&lt;NA&gt;</dd><dt>MAX.AIR.TEMP</dt><dd>&lt;NA&gt;</dd><dt>MAX.WIND.SPEED</dt><dd>&lt;NA&gt;</dd><dt>MAX.RAINFALL</dt><dd>&lt;NA&gt;</dd><dt>MIN.AIR.TEMP</dt><dd>&lt;NA&gt;</dd><dt>MEAN.RANGE.AIR.TEMP</dt><dd>0</dd></dl>\n"
      ],
      "text/latex": [
       "\\begin{description*}\n",
       "\\item[LAT] 0\n",
       "\\item[LON] 0\n",
       "\\item[ALTITUDE] 0\n",
       "\\item[RECORD.LENGTH] 0\n",
       "\\item[MEAN.ANNUAL.AIR.TEMP] <NA>\n",
       "\\item[MEAN.MONTHLY.MAX.TEMP] <NA>\n",
       "\\item[MEAN.MONTHLY.MIN.TEMP] <NA>\n",
       "\\item[MEAN.ANNUAL.WIND.SPEED] <NA>\n",
       "\\item[MEAN.CLOUD.COVER] <NA>\n",
       "\\item[MEAN.ANNUAL.SUNSHINE] <NA>\n",
       "\\item[MEAN.ANNUAL.RAINFALL] <NA>\n",
       "\\item[MAX.MONTHLY.WIND.SPEED] <NA>\n",
       "\\item[MAX.AIR.TEMP] <NA>\n",
       "\\item[MAX.WIND.SPEED] <NA>\n",
       "\\item[MAX.RAINFALL] <NA>\n",
       "\\item[MIN.AIR.TEMP] <NA>\n",
       "\\item[MEAN.RANGE.AIR.TEMP] 0\n",
       "\\end{description*}\n"
      ],
      "text/markdown": [
       "LAT\n",
       ":   0LON\n",
       ":   0ALTITUDE\n",
       ":   0RECORD.LENGTH\n",
       ":   0MEAN.ANNUAL.AIR.TEMP\n",
       ":   &lt;NA&gt;MEAN.MONTHLY.MAX.TEMP\n",
       ":   &lt;NA&gt;MEAN.MONTHLY.MIN.TEMP\n",
       ":   &lt;NA&gt;MEAN.ANNUAL.WIND.SPEED\n",
       ":   &lt;NA&gt;MEAN.CLOUD.COVER\n",
       ":   &lt;NA&gt;MEAN.ANNUAL.SUNSHINE\n",
       ":   &lt;NA&gt;MEAN.ANNUAL.RAINFALL\n",
       ":   &lt;NA&gt;MAX.MONTHLY.WIND.SPEED\n",
       ":   &lt;NA&gt;MAX.AIR.TEMP\n",
       ":   &lt;NA&gt;MAX.WIND.SPEED\n",
       ":   &lt;NA&gt;MAX.RAINFALL\n",
       ":   &lt;NA&gt;MIN.AIR.TEMP\n",
       ":   &lt;NA&gt;MEAN.RANGE.AIR.TEMP\n",
       ":   0\n",
       "\n"
      ],
      "text/plain": [
       "                   LAT                    LON               ALTITUDE \n",
       "                     0                      0                      0 \n",
       "         RECORD.LENGTH   MEAN.ANNUAL.AIR.TEMP  MEAN.MONTHLY.MAX.TEMP \n",
       "                     0                     NA                     NA \n",
       " MEAN.MONTHLY.MIN.TEMP MEAN.ANNUAL.WIND.SPEED       MEAN.CLOUD.COVER \n",
       "                    NA                     NA                     NA \n",
       "  MEAN.ANNUAL.SUNSHINE   MEAN.ANNUAL.RAINFALL MAX.MONTHLY.WIND.SPEED \n",
       "                    NA                     NA                     NA \n",
       "          MAX.AIR.TEMP         MAX.WIND.SPEED           MAX.RAINFALL \n",
       "                    NA                     NA                     NA \n",
       "          MIN.AIR.TEMP    MEAN.RANGE.AIR.TEMP \n",
       "                    NA                      0 "
      ]
     },
     "metadata": {},
     "output_type": "display_data"
    }
   ],
   "source": [
    "dane <- read.csv2(\"C:/Users/Dell/OneDrive/Pulpit/studia/IV SEM/modelowanie/cwl6/weather.csv\")\n",
    "dane_nowe = dane[c( 'LAT', 'LON', 'ALTITUDE', 'RECORD.LENGTH','MEAN.ANNUAL.AIR.TEMP', 'MEAN.MONTHLY.MAX.TEMP', 'MEAN.MONTHLY.MIN.TEMP', 'MEAN.ANNUAL.WIND.SPEED', 'MEAN.CLOUD.COVER','MEAN.ANNUAL.SUNSHINE', 'MEAN.ANNUAL.RAINFALL', 'MAX.MONTHLY.WIND.SPEED', 'MAX.AIR.TEMP', 'MAX.WIND.SPEED', 'MAX.RAINFALL', 'MIN.AIR.TEMP', 'MEAN.RANGE.AIR.TEMP')]\n",
    "\n",
    "\n",
    "sapply(dane_nowe, function(x) sum(x == \"\"))\n",
    "dane_nowe[dane_nowe == \"\"] <- NA\n",
    "liczba_wierszy_przed <- nrow(dane_nowe)\n",
    "dane_czyste <- na.omit(dane_nowe)\n",
    "liczba_wierszy_po <- nrow(dane_czyste)\n",
    "liczba_usunietych_wierszy <- liczba_wierszy_przed - liczba_wierszy_po\n",
    "\n",
    "\n",
    "split = sample.split(dane_czyste, SplitRatio = 0.3 , group = NULL)\n",
    "dane_uczace = subset(dane_czyste, split == FALSE)\n",
    "dane_testowe = subset(dane_czyste, split == TRUE)\n",
    "\n",
    "vec_train = as.vector(dane_uczace['MEAN.ANNUAL.RAINFALL'])\n",
    "\n",
    "vec_test = as.vector(dane_testowe['MEAN.ANNUAL.RAINFALL'])\n",
    "\n",
    "\n",
    "matrix_test = data.matrix(dane_testowe[colnames(dane_testowe) != 'MEAN.ANNUAL.RAINFALL']) #bez zmiennej objaśnianej\n",
    "matrix_train = data.matrix(dane_uczace[colnames(dane_uczace) != 'MEAN.ANNUAL.RAINFALL'])\n",
    "korelacja <-  cor(dane_czyste)\n",
    "\n"
   ]
  },
  {
   "cell_type": "markdown",
   "id": "d759a507-dd02-4700-93a3-1c7312f945b3",
   "metadata": {},
   "source": [
    "### Nonlinear Regression Model for Annual Rainfall Prediction Using Altitude Features"
   ]
  },
  {
   "cell_type": "markdown",
   "id": "c4da3f40-b5d9-41cd-86bd-f43318053f5f",
   "metadata": {},
   "source": [
    "This task involves creating a nonlinear regression model to predict mean annual rainfall based on three altitude-derived features: altitude, the logarithm of altitude, and the square of altitude. The model is trained on the training dataset, and the Root Mean Square Error (RMSE) is calculated to evaluate its fit to the observed data. Additionally, the model's predictions are tested on the test dataset using the predict() function, and the RMSE is calculated to assess the prediction accuracy."
   ]
  },
  {
   "cell_type": "code",
   "execution_count": 4,
   "id": "daee0a6c-47da-467c-8190-fbe67a0715a8",
   "metadata": {},
   "outputs": [
    {
     "name": "stdout",
     "output_type": "stream",
     "text": [
      "[1] 132.2739\n"
     ]
    }
   ],
   "source": [
    "model1<-lm(MEAN.ANNUAL.RAINFALL ~ ALTITUDE+log(ALTITUDE)+ALTITUDE^2, data = dane_uczace)\n",
    "rmse1_tr <-sqrt(mean((model1$residuals^2)))\n",
    "\n",
    "print(rmse1_tr)\n"
   ]
  },
  {
   "cell_type": "code",
   "execution_count": 5,
   "id": "cc9311dd-9ca0-4c12-9909-f93c6e6291df",
   "metadata": {},
   "outputs": [
    {
     "name": "stdout",
     "output_type": "stream",
     "text": [
      "[1] 162.8355\n"
     ]
    }
   ],
   "source": [
    "predict1 <- predict(model1, newdata = dane_testowe)\n",
    "rmse2_test <- sqrt(mean((predict1 - dane_testowe$MEAN.ANNUAL.RAINFALL)^2))\n",
    "\n",
    "print(rmse2_test)"
   ]
  },
  {
   "cell_type": "markdown",
   "id": "f1878fdb-bb8c-4e92-a477-6cd482d33d26",
   "metadata": {},
   "source": [
    "### Nonlinear Regression Model for Annual Rainfall Prediction Using Maximum Rainfall Features"
   ]
  },
  {
   "cell_type": "markdown",
   "id": "fb7a7d0e-e1e6-4fc5-8132-11c5e8e0c0af",
   "metadata": {},
   "source": [
    "This task involves creating a nonlinear regression model to predict mean annual rainfall based on three features derived from maximum rainfall: maximum rainfall, the logarithm of maximum rainfall, and the square of maximum rainfall. The model is trained on the training dataset, and the Root Mean Square Error (RMSE) is calculated to evaluate its fit to the observed data. The model's predictions are then applied to the test dataset using the predict() function, and the RMSE is calculated to assess the prediction accuracy on unseen data."
   ]
  },
  {
   "cell_type": "code",
   "execution_count": 6,
   "id": "59bda0b4-d53e-4d9f-aca9-97d423cd570b",
   "metadata": {},
   "outputs": [
    {
     "name": "stdout",
     "output_type": "stream",
     "text": [
      "[1] 116.4591\n"
     ]
    }
   ],
   "source": [
    "model2<-lm(MEAN.ANNUAL.RAINFALL ~ MAX.RAINFALL+log(MAX.RAINFALL)+MAX.RAINFALL^2, data = dane_uczace)\n",
    "rmse3_tr <-sqrt(mean((model2$residuals^2)))\n",
    "\n",
    "print(rmse3_tr)\n"
   ]
  },
  {
   "cell_type": "code",
   "execution_count": 7,
   "id": "b66b2aec-b067-4365-866a-c377b00218b1",
   "metadata": {},
   "outputs": [
    {
     "name": "stdout",
     "output_type": "stream",
     "text": [
      "[1] 114.7046\n"
     ]
    }
   ],
   "source": [
    "predict2 <- predict(model2, newdata = dane_testowe)\n",
    "rmse4_test <- sqrt(mean((predict2 - dane_testowe$MEAN.ANNUAL.RAINFALL)^2))\n",
    "\n",
    "print(rmse4_test)"
   ]
  },
  {
   "cell_type": "markdown",
   "id": "8cbfd451-87f0-48f6-bd1b-0e248b97786e",
   "metadata": {},
   "source": [
    "### Forward Selection for Model Building and Evaluation of Annual Rainfall Prediction\n",
    "\n"
   ]
  },
  {
   "cell_type": "code",
   "execution_count": 11,
   "id": "316b161f-70a9-48bc-a720-60597e10847c",
   "metadata": {},
   "outputs": [
    {
     "name": "stdout",
     "output_type": "stream",
     "text": [
      "Start:  AIC=1555.69\n",
      "MEAN.ANNUAL.RAINFALL ~ 1\n",
      "\n",
      "                       Df Sum of Sq     RSS    AIC\n",
      "+ MAX.RAINFALL          1   4892980 2092251 1384.1\n",
      "+ ALTITUDE              1   3937963 3047267 1438.2\n",
      "+ MEAN.ANNUAL.AIR.TEMP  1   2847322 4137908 1482.3\n",
      "+ MEAN.CLOUD.COVER      1    420682 6564548 1548.7\n",
      "<none>                              6985231 1555.7\n",
      "\n",
      "Step:  AIC=1384.09\n",
      "MEAN.ANNUAL.RAINFALL ~ MAX.RAINFALL\n",
      "\n",
      "                       Df Sum of Sq     RSS    AIC\n",
      "+ MEAN.ANNUAL.AIR.TEMP  1    138857 1953393 1376.2\n",
      "+ ALTITUDE              1     76184 2016067 1380.8\n",
      "+ MEAN.CLOUD.COVER      1     31181 2061070 1383.9\n",
      "<none>                              2092251 1384.1\n",
      "\n",
      "Step:  AIC=1376.2\n",
      "MEAN.ANNUAL.RAINFALL ~ MAX.RAINFALL + MEAN.ANNUAL.AIR.TEMP\n",
      "\n",
      "                   Df Sum of Sq     RSS    AIC\n",
      "<none>                          1953393 1376.2\n",
      "+ MEAN.CLOUD.COVER  1    3698.9 1949694 1377.9\n",
      "+ ALTITUDE          1    1633.4 1951760 1378.1\n"
     ]
    },
    {
     "data": {
      "text/plain": [
       "\n",
       "Call:\n",
       "lm(formula = MEAN.ANNUAL.RAINFALL ~ MAX.RAINFALL + MEAN.ANNUAL.AIR.TEMP, \n",
       "    data = dane_uczace)\n",
       "\n",
       "Residuals:\n",
       "    Min      1Q  Median      3Q     Max \n",
       "-282.29  -75.55   -0.40   89.96  366.09 \n",
       "\n",
       "Coefficients:\n",
       "                     Estimate Std. Error t value Pr(>|t|)    \n",
       "(Intercept)           156.648    132.333   1.184  0.23851    \n",
       "MAX.RAINFALL           22.343      1.779  12.557  < 2e-16 ***\n",
       "MEAN.ANNUAL.AIR.TEMP  -29.579      9.343  -3.166  0.00189 ** \n",
       "---\n",
       "Signif. codes:  0 '***' 0.001 '**' 0.01 '*' 0.05 '.' 0.1 ' ' 1\n",
       "\n",
       "Residual standard error: 117.7 on 141 degrees of freedom\n",
       "Multiple R-squared:  0.7204,\tAdjusted R-squared:  0.7164 \n",
       "F-statistic: 181.6 on 2 and 141 DF,  p-value: < 2.2e-16\n"
      ]
     },
     "metadata": {},
     "output_type": "display_data"
    }
   ],
   "source": [
    "model3<-lm(MEAN.ANNUAL.RAINFALL ~ 1, data = dane_uczace)\n",
    "\n",
    "scope1<-as.formula(MEAN.ANNUAL.RAINFALL ~ ALTITUDE + MAX.RAINFALL + MEAN.CLOUD.COVER + MEAN.ANNUAL.AIR.TEMP)\n",
    "model4 <- step(model3, scope = scope1, direction = 'forward')\n",
    "summary(model4)\n"
   ]
  },
  {
   "cell_type": "code",
   "execution_count": 12,
   "id": "8437625d-877f-485c-8021-89a09939d7fb",
   "metadata": {},
   "outputs": [
    {
     "name": "stdout",
     "output_type": "stream",
     "text": [
      "[1] 116.4699\n"
     ]
    }
   ],
   "source": [
    "model5<-lm(MEAN.ANNUAL.RAINFALL~ MAX.RAINFALL + MEAN.ANNUAL.AIR.TEMP, data = dane_uczace)\n",
    "rmse5_tr <-sqrt(mean((model5$residuals^2)))\n",
    "\n",
    "print(rmse5_tr)\n"
   ]
  },
  {
   "cell_type": "code",
   "execution_count": 13,
   "id": "a291b5a0-10d6-4619-9118-40062f3e8ca6",
   "metadata": {},
   "outputs": [
    {
     "name": "stdout",
     "output_type": "stream",
     "text": [
      "[1] 113.4446\n"
     ]
    }
   ],
   "source": [
    "predict3 <- predict(model5, newdata = dane_testowe)\n",
    "rmse6_test <- sqrt(mean((predict3 - dane_testowe$MEAN.ANNUAL.RAINFALL)^2))\n",
    "\n",
    "print(rmse6_test)"
   ]
  },
  {
   "cell_type": "markdown",
   "id": "687037b2-c002-4227-aaf1-53b8dc33ec8f",
   "metadata": {},
   "source": [
    "### Backward Selection for Model Building and Evaluation of Annual Rainfall Prediction\n"
   ]
  },
  {
   "cell_type": "code",
   "execution_count": 14,
   "id": "8871db64-5713-42f3-938b-f0ba1e30c145",
   "metadata": {},
   "outputs": [
    {
     "name": "stdout",
     "output_type": "stream",
     "text": [
      "Start:  AIC=1379.8\n",
      "MEAN.ANNUAL.RAINFALL ~ ALTITUDE + MAX.RAINFALL + MEAN.CLOUD.COVER + \n",
      "    MEAN.ANNUAL.AIR.TEMP\n",
      "\n",
      "                       Df Sum of Sq     RSS    AIC\n",
      "- ALTITUDE              1      1665 1949694 1377.9\n",
      "- MEAN.CLOUD.COVER      1      3731 1951760 1378.1\n",
      "<none>                              1948029 1379.8\n",
      "- MEAN.ANNUAL.AIR.TEMP  1     53058 2001087 1381.7\n",
      "- MAX.RAINFALL          1   1078949 3026978 1441.3\n",
      "\n",
      "Step:  AIC=1377.93\n",
      "MEAN.ANNUAL.RAINFALL ~ MAX.RAINFALL + MEAN.CLOUD.COVER + MEAN.ANNUAL.AIR.TEMP\n",
      "\n",
      "                       Df Sum of Sq     RSS    AIC\n",
      "- MEAN.CLOUD.COVER      1      3699 1953393 1376.2\n",
      "<none>                              1949694 1377.9\n",
      "- MEAN.ANNUAL.AIR.TEMP  1    111375 2061070 1383.9\n",
      "- MAX.RAINFALL          1   2188061 4137756 1484.3\n",
      "\n",
      "Step:  AIC=1376.2\n",
      "MEAN.ANNUAL.RAINFALL ~ MAX.RAINFALL + MEAN.ANNUAL.AIR.TEMP\n",
      "\n",
      "                       Df Sum of Sq     RSS    AIC\n",
      "<none>                              1953393 1376.2\n",
      "- MEAN.ANNUAL.AIR.TEMP  1    138857 2092251 1384.1\n",
      "- MAX.RAINFALL          1   2184515 4137908 1482.3\n"
     ]
    },
    {
     "data": {
      "text/plain": [
       "\n",
       "Call:\n",
       "lm(formula = MEAN.ANNUAL.RAINFALL ~ MAX.RAINFALL + MEAN.ANNUAL.AIR.TEMP, \n",
       "    data = dane_uczace)\n",
       "\n",
       "Residuals:\n",
       "    Min      1Q  Median      3Q     Max \n",
       "-282.29  -75.55   -0.40   89.96  366.09 \n",
       "\n",
       "Coefficients:\n",
       "                     Estimate Std. Error t value Pr(>|t|)    \n",
       "(Intercept)           156.648    132.333   1.184  0.23851    \n",
       "MAX.RAINFALL           22.343      1.779  12.557  < 2e-16 ***\n",
       "MEAN.ANNUAL.AIR.TEMP  -29.579      9.343  -3.166  0.00189 ** \n",
       "---\n",
       "Signif. codes:  0 '***' 0.001 '**' 0.01 '*' 0.05 '.' 0.1 ' ' 1\n",
       "\n",
       "Residual standard error: 117.7 on 141 degrees of freedom\n",
       "Multiple R-squared:  0.7204,\tAdjusted R-squared:  0.7164 \n",
       "F-statistic: 181.6 on 2 and 141 DF,  p-value: < 2.2e-16\n"
      ]
     },
     "metadata": {},
     "output_type": "display_data"
    }
   ],
   "source": [
    "model7<-lm(MEAN.ANNUAL.RAINFALL ~ ALTITUDE + MAX.RAINFALL + MEAN.CLOUD.COVER + MEAN.ANNUAL.AIR.TEMP, dane_uczace)\n",
    "model8 <- step(model7, direction = 'backward')\n",
    "summary(model8)\n"
   ]
  },
  {
   "cell_type": "code",
   "execution_count": 15,
   "id": "72ab4056-3736-425b-8720-bcfc1505e5d5",
   "metadata": {},
   "outputs": [
    {
     "name": "stdout",
     "output_type": "stream",
     "text": [
      "[1] 116.4699\n"
     ]
    }
   ],
   "source": [
    "model9<-lm(MEAN.ANNUAL.RAINFALL ~ MAX.RAINFALL +MEAN.ANNUAL.AIR.TEMP , data = dane_uczace)\n",
    "rmse7_tr <-sqrt(mean((model9$residuals^2)))\n",
    "\n",
    "print(rmse7_tr)\n"
   ]
  },
  {
   "cell_type": "code",
   "execution_count": 16,
   "id": "4f8be699-c93a-4c88-898d-6802f3dc71c2",
   "metadata": {},
   "outputs": [
    {
     "name": "stdout",
     "output_type": "stream",
     "text": [
      "[1] 113.4446\n"
     ]
    }
   ],
   "source": [
    "predict4 <- predict(model9, newdata = dane_testowe)\n",
    "rmse8_test <- sqrt(mean((predict4 - dane_testowe$MEAN.ANNUAL.RAINFALL)^2))\n",
    "\n",
    "print(rmse8_test)"
   ]
  },
  {
   "cell_type": "code",
   "execution_count": null,
   "id": "380c53b3-8031-4c64-89ee-7480cb8f88d4",
   "metadata": {},
   "outputs": [],
   "source": []
  }
 ],
 "metadata": {
  "kernelspec": {
   "display_name": "R",
   "language": "R",
   "name": "ir"
  },
  "language_info": {
   "codemirror_mode": "r",
   "file_extension": ".r",
   "mimetype": "text/x-r-source",
   "name": "R",
   "pygments_lexer": "r",
   "version": "4.4.2"
  }
 },
 "nbformat": 4,
 "nbformat_minor": 5
}
